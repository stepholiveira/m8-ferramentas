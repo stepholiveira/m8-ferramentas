{
 "cells": [
  {
   "cell_type": "markdown",
   "metadata": {},
   "source": [
    "# Expressões regulares\n",
    "\n",
    "As expressões regulares são usadas nas linguagens de programação e, em Linux, na generalidade das ferramentas que trabalham com ficheiros.\n",
    "\n",
    "Nesta ficha vamos aprender coisas básicas de expressões regulares.\n",
    "\n",
    "Se necessário, tem disponível a [documentação de expressões regulares em Python](https://docs.python.org/3/howto/regex.html)."
   ]
  },
  {
   "cell_type": "markdown",
   "metadata": {},
   "source": [
    "### Escrita de expressões regulares\n",
    "\n",
    "As expressões regulares usam uma sintaxe especial para escrever os padrões. Como usam muitas vezes o `\\`, que também é usado nas strings para representar carateres especiais, como o newline `\\n`, as expressões regulares não devem ser tratadas como uma string normal. Por isso, usa-se o prefiro `r` (de raw) antes de se escrever uma expressão regular."
   ]
  },
  {
   "cell_type": "code",
   "execution_count": 1,
   "metadata": {},
   "outputs": [
    {
     "name": "stdout",
     "output_type": "stream",
     "text": [
      "O céu\n",
      "está azul\n",
      "O céu\\nestá azul\n",
      "O céu\\nestá azul\n"
     ]
    }
   ],
   "source": [
    "# exemplo de um string normal\n",
    "print(\"O céu\\nestá azul\")\n",
    "# forçar a escrita de um \\\n",
    "print(\"O céu\\\\nestá azul\") \n",
    "# usar o prefixo r, para raw, print ou assim\n",
    "print(r\"O céu\\nestá azul\")"
   ]
  },
  {
   "cell_type": "markdown",
   "metadata": {},
   "source": [
    "Para se manter as expressões regulares legíveis, vamos escrevê-las sempre com o prefixo `r` de raw. Contudo, lembre-se que as seguintes expressões, por exemplo, são idênticas:\n",
    "```\n",
    "match = re.search(r'\\d+', frase)\n",
    "match = re.search('\\\\d+', frase)\n",
    "```\n"
   ]
  },
  {
   "cell_type": "markdown",
   "metadata": {},
   "source": []
  },
  {
   "cell_type": "markdown",
   "metadata": {},
   "source": [
    "## Células de texto e células de código\n",
    "\n",
    "Não se esqueça que está usar um notebook, onde há células com texto apenas e células com código.\n",
    "\n",
    "Na célula seguinte apresenta-se o código inicial que vamos usar nos primeiros exemplos. Tem que executar esta célula, antes de executar as posteriores."
   ]
  },
  {
   "cell_type": "code",
   "execution_count": 2,
   "metadata": {},
   "outputs": [],
   "source": [
    "import re\n",
    "frase = \"O João tem 18 anos e nasceu em 2004, 2 anos antes da Inês que agora tem 16, que nasceu em 2006\""
   ]
  },
  {
   "cell_type": "markdown",
   "metadata": {},
   "source": [
    "As expressões regulares consistem em definir padrões e depois usar funções que vão à procura desses padrões num texto.\n",
    "\n",
    "As duas funções mais simples são `search()` e `match()`.\n",
    "\n",
    "A função `search()` procura o padrão em qualquer posição.\n",
    "\n",
    "A função `match()` procura o padrão no início da frase.\n",
    "\n",
    "Ambas retornam `None` se o padrão não for encontrado."
   ]
  },
  {
   "cell_type": "code",
   "execution_count": 3,
   "metadata": {},
   "outputs": [
    {
     "name": "stdout",
     "output_type": "stream",
     "text": [
      "1\n"
     ]
    }
   ],
   "source": [
    "match = re.search(r'[0123456789]', frase)\n",
    "print(match[0])\n"
   ]
  },
  {
   "cell_type": "markdown",
   "metadata": {},
   "source": [
    "No exemplo anterior, usa-se o padrão `[0123456789]` para indicar que queremos ir à procura de um algarismo.\n",
    "\n",
    "Os padrões seguintes são equivalentes a este:\n",
    "- `[0-9]`\n",
    "- `\\d`\n",
    "\n",
    "No exemplo, a função `search` dá um resultado diferente de None (quer dizer que encontrou o padrão) e o texto que satisfez o padrão foi o a primeira ocorrência do algarismo `1`."
   ]
  },
  {
   "cell_type": "markdown",
   "metadata": {},
   "source": [
    "#### Compilar versus não compilar\n",
    "\n",
    "Ao consultar a documentação ou ao ver exemplos, pode verificar que as expressões regulares podem ser compiladas antes de serem usadas.\n",
    "\n",
    "É exatamente a mesma coisa:\n",
    "\n",
    "```\n",
    "match = re.search(r'\\d+', frase)\n",
    "```\n",
    "\n",
    "ou\n",
    "\n",
    "```\n",
    "p = re.compile(r'\\d+')\n",
    "p.search(frase)\n",
    "```\n",
    "\n",
    "No exemplo seguinte, usa-se o padrão `[0-9]+`. O `+` indica uma ou repetições do elemento anterior.\n"
   ]
  },
  {
   "cell_type": "code",
   "execution_count": 4,
   "metadata": {},
   "outputs": [
    {
     "data": {
      "text/plain": [
       "<re.Match object; span=(11, 13), match='18'>"
      ]
     },
     "execution_count": 4,
     "metadata": {},
     "output_type": "execute_result"
    }
   ],
   "source": [
    "p = re.compile(r'[0-9]+')\n",
    "p.search(frase)"
   ]
  },
  {
   "cell_type": "code",
   "execution_count": 5,
   "metadata": {},
   "outputs": [
    {
     "name": "stdout",
     "output_type": "stream",
     "text": [
      "None\n"
     ]
    }
   ],
   "source": [
    "match = re.match(r'\\d+', frase)\n",
    "print(match)"
   ]
  },
  {
   "cell_type": "markdown",
   "metadata": {},
   "source": [
    "Como se referiu, o `search` e o `match` têm comportamentos ligeiramente diferentes.\n",
    "\n",
    "O `match` não encontra o padrão, a não ser no início."
   ]
  },
  {
   "cell_type": "code",
   "execution_count": 6,
   "metadata": {},
   "outputs": [
    {
     "name": "stdout",
     "output_type": "stream",
     "text": [
      "<re.Match object; span=(0, 4), match='1975'>\n",
      "1975\n",
      "None\n"
     ]
    }
   ],
   "source": [
    "import re \n",
    "\n",
    "pal1 = \"1975, ano de boa produção\"\n",
    "pal2 = \"Viva o 1 de dezembro\"\n",
    "match1 = re.match(r'\\d+', pal1)\n",
    "print(match1)\n",
    "print(match1[0])\n",
    "match2 = re.match(r'\\d+', pal2)\n",
    "print(match2)"
   ]
  },
  {
   "cell_type": "markdown",
   "metadata": {},
   "source": [
    "Quando se quer encontrar mais do que uma ocorrência, usa-se a função `findall()`."
   ]
  },
  {
   "cell_type": "code",
   "execution_count": 7,
   "metadata": {},
   "outputs": [
    {
     "name": "stdout",
     "output_type": "stream",
     "text": [
      "['2004', '2006']\n"
     ]
    }
   ],
   "source": [
    "# match = re.findall(r'\\d+', frase)\n",
    "match = re.findall(r'\\d{4}', frase)\n",
    "\n",
    "print(match)"
   ]
  },
  {
   "cell_type": "code",
   "execution_count": 8,
   "metadata": {},
   "outputs": [
    {
     "data": {
      "text/plain": [
       "['O',\n",
       " 'João',\n",
       " 'tem',\n",
       " '18',\n",
       " 'anos',\n",
       " 'e',\n",
       " 'nasceu',\n",
       " 'em',\n",
       " '2004',\n",
       " '2',\n",
       " 'anos',\n",
       " 'antes',\n",
       " 'da',\n",
       " 'Inês',\n",
       " 'que',\n",
       " 'agora',\n",
       " 'tem',\n",
       " '16',\n",
       " 'que',\n",
       " 'nasceu',\n",
       " 'em',\n",
       " '2006']"
      ]
     },
     "execution_count": 8,
     "metadata": {},
     "output_type": "execute_result"
    }
   ],
   "source": [
    "re.findall(r'\\w+', frase)"
   ]
  },
  {
   "cell_type": "markdown",
   "metadata": {},
   "source": [
    "Se for importante saber a posição onde ocorre cada instância do padrão, pode-se usar a função `finditer()`"
   ]
  },
  {
   "cell_type": "code",
   "execution_count": 9,
   "metadata": {},
   "outputs": [
    {
     "name": "stdout",
     "output_type": "stream",
     "text": [
      "11-13: 18\n",
      "31-35: 2004\n",
      "37-38: 2\n",
      "72-74: 16\n",
      "90-94: 2006\n"
     ]
    }
   ],
   "source": [
    "for m in re.finditer(r'\\d+', frase):\n",
    "    print('{}-{}: {}'.format(m.start(), m.end(), m.group(0)))\n"
   ]
  },
  {
   "cell_type": "markdown",
   "metadata": {},
   "source": [
    "Com a função `sub()` pode-se substituir cada match com o valor retornado pela função aplicada ao match."
   ]
  },
  {
   "cell_type": "code",
   "execution_count": 10,
   "metadata": {},
   "outputs": [
    {
     "data": {
      "text/plain": [
       "'O João tem 0x12 anos e nasceu em 0x7d4, 0x2 anos antes da Inês que agora tem 0x10, que nasceu em 0x7d6'"
      ]
     },
     "execution_count": 10,
     "metadata": {},
     "output_type": "execute_result"
    }
   ],
   "source": [
    "def tohex(match):\n",
    "    return(hex(int(match[0])))\n",
    "\n",
    "re.sub(r\"\\d+\", tohex, frase)"
   ]
  },
  {
   "cell_type": "markdown",
   "metadata": {},
   "source": [
    "#### Grupos\n",
    "\n",
    "A função match permite agrupar partes do padrão. Esses grupos podem ser usados para aceder a cada uma das partes da entrada que fez match com o grupo.\n",
    "\n",
    "No exemplo seguinte, usam-se três grupos.\n",
    "\n",
    "No primeiro grupo, temos o dia, no segundo o mês e no terceiro o ano."
   ]
  },
  {
   "cell_type": "code",
   "execution_count": 11,
   "metadata": {},
   "outputs": [
    {
     "name": "stdout",
     "output_type": "stream",
     "text": [
      "1992 10 14\n"
     ]
    }
   ],
   "source": [
    "nascimento = \"14/10/1992\"\n",
    "# nascimento = \"14-10-1992\"\n",
    "\n",
    "m = re.match(r\"(\\d\\d)[/-](\\d\\d)[/-](\\d\\d\\d\\d)\", nascimento)\n",
    "\n",
    "if m:\n",
    "    print( m.group(3), m.group(2), m.group(1) )"
   ]
  },
  {
   "cell_type": "markdown",
   "metadata": {},
   "source": [
    "A função `re.split()` é muito útil. É muito mais flexível que o método `split()` das strings."
   ]
  },
  {
   "cell_type": "code",
   "execution_count": 12,
   "metadata": {},
   "outputs": [
    {
     "data": {
      "text/plain": [
       "['Pires,', 'João', 'Paulo', '', '', '', 'Alves', 'Cabrita']"
      ]
     },
     "execution_count": 12,
     "metadata": {},
     "output_type": "execute_result"
    }
   ],
   "source": [
    "\"Pires, João Paulo    Alves Cabrita\".split(' ')"
   ]
  },
  {
   "cell_type": "code",
   "execution_count": 13,
   "metadata": {},
   "outputs": [
    {
     "data": {
      "text/plain": [
       "['Pires', 'João', 'Paulo', 'Alves', 'Cabrita', 'Corte', 'Real']"
      ]
     },
     "execution_count": 13,
     "metadata": {},
     "output_type": "execute_result"
    }
   ],
   "source": [
    "# e = re.compile(r'[^0-9a-zA-Z]+')\n",
    "e = re.compile(r'[ ,;]+')\n",
    "e.split(\"Pires,,,,João Paulo           Alves;Cabrita, Corte Real\") "
   ]
  },
  {
   "cell_type": "markdown",
   "metadata": {},
   "source": [
    "### Sequências\n",
    "\n",
    "Nos exemplos seguintes, usam-se sequências guardas no [Genbank](https://www.ncbi.nlm.nih.gov/genbank/). Estas estão guardadas num formato próprio, exemplificado no registo seguinte: https://www.ncbi.nlm.nih.gov/Sitemap/samplerecord.html\n",
    "\n",
    "Para os exercícios, descarregámos duas entradas, a partir dos links:\n",
    "- https://www.ncbi.nlm.nih.gov/nuccore/L42022\n",
    "- https://www.ncbi.nlm.nih.gov/nuccore/L42023\n",
    "\n",
    "Estão guardadas nos documentos `L42022.1.gb` e `L42023.1.gb`.\n",
    "\n",
    "Para ler um registo inteiro e guardá-lo numa string `locus`, usa-se o código Python seguinte:\n",
    "\n"
   ]
  },
  {
   "cell_type": "code",
   "execution_count": 14,
   "metadata": {},
   "outputs": [
    {
     "name": "stdout",
     "output_type": "stream",
     "text": [
      "LOCUS       HIVI5C                   231 bp    DNA     linear   VRL 24-MAR-1997\n",
      "DEFINITION  Human immunodeficiency virus type 1 (isolate genotype C, I5) gag\n",
      "            gene, partial cds.\n",
      "ACCESSION   L42022\n",
      "VERSION     L42022.1\n",
      "KEYWORDS    gag gene; p24 protein.\n",
      "SOURCE      Human immunodeficiency virus 1 (HIV-1)\n",
      "  ORGANISM  Human immunodeficiency virus 1\n",
      "            Viruses; Riboviria; Pararnavirae; Artverviricota; Revtraviricetes;\n",
      "            Ortervirales; Retroviridae; Orthoretrovirinae; Lentivirus.\n",
      "REFERENCE   1  (bases 1 to 231)\n",
      "  AUTHORS   Voevodin,A., Crandall,K.A., Seth,P. and al Mufti,S.\n",
      "  TITLE     HIV type 1 subtypes B and C from new regions of India and Indian\n",
      "            and Ethiopian expatriates in Kuwait\n",
      "  JOURNAL   AIDS Res. Hum. Retroviruses 12 (7), 641-643 (1996)\n",
      "   PUBMED   8743090\n",
      "FEATURES             Location/Qualifiers\n",
      "     source          1..231\n",
      "                     /organism=\"Human immunodeficiency virus 1\"\n",
      "                     /proviral\n",
      "                     /mol_type=\"genomic DNA\"\n",
      "                     /isolate=\"genotype C, I5\"\n",
      "                     /db_xref=\"taxon:11676\"\n",
      "     gene            1..231\n",
      "                     /gene=\"gag\"\n",
      "     CDS             <1..>231\n",
      "                     /gene=\"gag\"\n",
      "                     /codon_start=1\n",
      "                     /protein_id=\"AAB50165.1\"\n",
      "                     /translation=\"HPVHAGPIAPGQMREPRGSDIAGTTSTLQEQVAWMTGNPPVPVG\n",
      "                     EIYKRWIILGLNKIVRMYSPVSILDIKQGPKEP\"\n",
      "ORIGIN      \n",
      "        1 catccagtac atgcagggcc tattgcacca ggccaaatga gagaaccaag gggaagtgac\n",
      "       61 atagcaggaa ctacaagtac ccttcaggaa caagtagcat ggatgacagg taacccacct\n",
      "      121 gttccagtgg gagaaatcta taaaagatgg ataattctgg gattaaataa aatagtaaga\n",
      "      181 atgtatagcc ctgtcagcat tttggacata aaacaagggc caaaggaacc c\n",
      "//\n",
      "\n",
      "\n"
     ]
    }
   ],
   "source": [
    "import re\n",
    "\n",
    "fonte = open(\"L42022.1.gb\",'r')\n",
    "locus = fonte.read()\n",
    "fonte.close()\n",
    "print( locus )"
   ]
  },
  {
   "cell_type": "markdown",
   "metadata": {},
   "source": [
    "Tenha em atenção que a string contém `\\n` (mudanças de linha). Pode-se ter que usar as flags `re.DOTALL` ou `re.MULTILINE`.\n",
    "\n",
    "Sendo `locus` um string com o conteúdo do registo, pode-se verificar se existem determinados padrões com a função `search`."
   ]
  },
  {
   "cell_type": "code",
   "execution_count": 15,
   "metadata": {},
   "outputs": [
    {
     "data": {
      "text/plain": [
       "<re.Match object; span=(207, 227), match='VERSION     L42022.1'>"
      ]
     },
     "execution_count": 15,
     "metadata": {},
     "output_type": "execute_result"
    }
   ],
   "source": [
    "\n",
    "re.search(\"VERSION\\s+[\\w.]+\", locus)"
   ]
  },
  {
   "cell_type": "markdown",
   "metadata": {},
   "source": [
    "Versão com a flag `re.MULTILINE`, para garantir que o padrão VERSION aparece no início de uma linha (usando o `^`):"
   ]
  },
  {
   "cell_type": "code",
   "execution_count": 16,
   "metadata": {},
   "outputs": [
    {
     "data": {
      "text/plain": [
       "<re.Match object; span=(207, 227), match='VERSION     L42022.1'>"
      ]
     },
     "execution_count": 16,
     "metadata": {},
     "output_type": "execute_result"
    }
   ],
   "source": [
    "\n",
    "re.search(\"^VERSION\\s+[\\w.]+\", locus, re.MULTILINE)"
   ]
  },
  {
   "cell_type": "markdown",
   "metadata": {},
   "source": [
    "Procurar as linhas onde aparece a sequência:"
   ]
  },
  {
   "cell_type": "code",
   "execution_count": 17,
   "metadata": {},
   "outputs": [
    {
     "data": {
      "text/plain": [
       "['        1 catccagtac atgcagggcc tattgcacca ggccaaatga gagaaccaag gggaagtgac',\n",
       " '       61 atagcaggaa ctacaagtac ccttcaggaa caagtagcat ggatgacagg taacccacct',\n",
       " '      121 gttccagtgg gagaaatcta taaaagatgg ataattctgg gattaaataa aatagtaaga',\n",
       " '      181 atgtatagcc ctgtcagcat tttggacata aaacaagggc caaaggaacc c']"
      ]
     },
     "execution_count": 17,
     "metadata": {},
     "output_type": "execute_result"
    }
   ],
   "source": [
    "re.findall(\"^\\s+\\d+ [actg ]+\", locus, re.MULTILINE)"
   ]
  },
  {
   "cell_type": "markdown",
   "metadata": {},
   "source": [
    "### Exercício (resolvido)\n",
    "\n",
    "Dado uma entrada do genbank (como a do exemplo anterior), escreva um pequeno programa que, dado um registo, dá o link para o Genbank onde o mesmo aparece. \n",
    "\n",
    "Exemplo:\n",
    "\n",
    "dados o seguinte registo em texto (abreviado):\n",
    "```\n",
    "LOCUS       L42023               1830138 bp    DNA     circular BCT 31-JAN-2014\n",
    "DEFINITION  Haemophilus influenzae Rd KW20, complete genome.\n",
    "ACCESSION   L42023 U32686-U32848\n",
    "VERSION     L42023.1  GI:6626252\n",
    "DBLINK      BioProject: PRJNA219\n",
    "            BioSample: SAMN02603991\n",
    "KEYWORDS    .\n",
    "SOURCE      Haemophilus influenzae Rd KW20\n",
    "  ORGANISM  Haemophilus influenzae Rd KW20\n",
    "(...)\n",
    "```\n",
    "\n",
    "O resultado deveria ser:\n",
    "```\n",
    "https://www.ncbi.nlm.nih.gov/nuccore/L42022\n",
    "```"
   ]
  },
  {
   "cell_type": "code",
   "execution_count": 18,
   "metadata": {},
   "outputs": [
    {
     "name": "stdout",
     "output_type": "stream",
     "text": [
      "https://www.ncbi.nlm.nih.gov/nuccore/L42023\n"
     ]
    }
   ],
   "source": [
    "import re\n",
    "\n",
    "# fonte = open(\"L42022.1.gb\",'r')\n",
    "fonte = open(\"L42023.1.gb\",'r')\n",
    "locus = fonte.read()\n",
    "fonte.close()\n",
    "\n",
    "existe = re.search(r'ACCESSION\\s+[^\\s]+', locus)\n",
    "if existe:\n",
    "    # print( existe[0] )\n",
    "    m = re.match(r'ACCESSION\\s+([^\\s]+)', existe[0] )\n",
    "    if m:\n",
    "        id = m.group(1)\n",
    "        print( \"https://www.ncbi.nlm.nih.gov/nuccore/{}\".format( id ) )\n",
    "else:\n",
    "    print( \"Padrão não encontrado\" )"
   ]
  },
  {
   "cell_type": "markdown",
   "metadata": {},
   "source": [
    "### Exercício\n",
    "\n",
    "Dado uma entrada do genbank (como a do exemplo anterior), escreva um pequeno programa que, dado um registo, dá a respetiva definição.\n",
    "\n",
    "Exemplo:\n",
    "\n",
    "dados o seguinte registo em texto (abreviado):\n",
    "```\n",
    "LOCUS       HIVI5C                   231 bp    DNA     linear   VRL 24-MAR-1997\n",
    "DEFINITION  Human immunodeficiency virus type 1 (isolate genotype C, I5) gag\n",
    "            gene, partial cds.\n",
    "ACCESSION   L42022\n",
    "VERSION     L42022.1\n",
    "KEYWORDS    gag gene; p24 protein.\n",
    "SOURCE      Human immunodeficiency virus 1 (HIV-1)\n",
    "  ORGANISM  Human immunodeficiency virus 1\n",
    "            Viruses; Riboviria; Pararnavirae; Artverviricota; Revtraviricetes;\n",
    "            Ortervirales; Retroviridae; Orthoretrovirinae; Lentivirus.\n",
    "REFERENCE   1  (bases 1 to 231)\n",
    "  AUTHORS   Voevodin,A., Crandall,K.A., Seth,P. and al Mufti,S.\n",
    "  TITLE     HIV type 1 subtypes B and C from new regions of India and Indian\n",
    "            and Ethiopian expatriates in Kuwait\n",
    "  JOURNAL   AIDS Res. Hum. Retroviruses 12 (7), 641-643 (1996)\n",
    "   PUBMED   8743090\n",
    "(...)\n",
    "```\n",
    "\n",
    "O resultado deveria ser:\n",
    "```\n",
    "Human immunodeficiency virus type 1 (isolate genotype C, I5) gag gene, partial cds.\n",
    "```"
   ]
  },
  {
   "cell_type": "code",
   "execution_count": 12,
   "metadata": {},
   "outputs": [],
   "source": [
    "# resposta"
   ]
  },
  {
   "cell_type": "markdown",
   "metadata": {},
   "source": [
    "### Exercício (resolvido)\n",
    "\n",
    "Dado uma entrada do genbank (como a do exemplo anterior), escreva um pequeno programa que, dado um registo, dá todos os títulos das referências que aparecem no registo.\n",
    "\n",
    "Exemplo:\n",
    "\n",
    "dados o seguinte registo em texto (abreviado):\n",
    "```\n",
    "LOCUS       HIVI5C                   231 bp    DNA     linear   VRL 24-MAR-1997\n",
    "DEFINITION  Human immunodeficiency virus type 1 (isolate genotype C, I5) gag\n",
    "            gene, partial cds.\n",
    "ACCESSION   L42022\n",
    "VERSION     L42022.1\n",
    "KEYWORDS    gag gene; p24 protein.\n",
    "SOURCE      Human immunodeficiency virus 1 (HIV-1)\n",
    "  ORGANISM  Human immunodeficiency virus 1\n",
    "            Viruses; Riboviria; Pararnavirae; Artverviricota; Revtraviricetes;\n",
    "            Ortervirales; Retroviridae; Orthoretrovirinae; Lentivirus.\n",
    "REFERENCE   1  (bases 1 to 231)\n",
    "  AUTHORS   Voevodin,A., Crandall,K.A., Seth,P. and al Mufti,S.\n",
    "  TITLE     HIV type 1 subtypes B and C from new regions of India and Indian\n",
    "            and Ethiopian expatriates in Kuwait\n",
    "  JOURNAL   AIDS Res. Hum. Retroviruses 12 (7), 641-643 (1996)\n",
    "   PUBMED   8743090\n",
    "(...)\n",
    "```\n",
    "\n",
    "O resultado deveria ser:\n",
    "```\n",
    "HIV type 1 subtypes B and C from new regions of India and Indian and Ethiopian expatriates in Kuwait\n",
    "```"
   ]
  },
  {
   "cell_type": "code",
   "execution_count": 20,
   "metadata": {},
   "outputs": [
    {
     "name": "stdout",
     "output_type": "stream",
     "text": [
      "Whole-genome random sequencing and assembly of Haemophilus influenzae Rd \n",
      "Metabolism and evolution of Haemophilus influenzae deduced from a whole-genome comparison with Escherichia coli \n",
      "Direct Submission \n",
      "Direct Submission \n",
      "Direct Submission \n"
     ]
    }
   ],
   "source": [
    "import re\n",
    "\n",
    "# fonte = open(\"L42022.1.gb\",'r')\n",
    "fonte = open(\"L42023.1.gb\",'r')\n",
    "locus = fonte.read()\n",
    "fonte.close()\n",
    "\n",
    "# ver https://docs.python.org/3/howto/regex.html#lookahead-assertions\n",
    "# ver https://docs.python.org/3/howto/regex.html#greedy-versus-non-greedy\n",
    "existe = re.findall(r'TITLE\\s+.*?(?=JOURNAL)', locus, re.DOTALL)\n",
    "if existe:\n",
    "    for title in existe:\n",
    "        m = re.match( r'TITLE\\s+(.+)', title, re.DOTALL )\n",
    "        # print( m.group(1) )\n",
    "        print( re.sub(r'\\s+', ' ', m.group(1) ) )"
   ]
  },
  {
   "cell_type": "markdown",
   "metadata": {},
   "source": [
    "### Exercício\n",
    "\n",
    "Dado uma entrada do genbank (como a do exemplo anterior), escreva um pequeno programa que, dado um registo, dá a sequência que aparece no final.\n",
    "\n",
    "A sequência deve ser apresentada numa única linha, sem espaços e sem outras eltas, a não ser a, c, t e g.\n",
    "\n",
    "Exemplo:\n",
    "\n",
    "dados o seguinte registo em texto (abreviado):\n",
    "```\n",
    "LOCUS       HIVI5C                   231 bp    DNA     linear   VRL 24-MAR-1997\n",
    "DEFINITION  Human immunodeficiency virus type 1 (isolate genotype C, I5) gag\n",
    "            gene, partial cds.\n",
    "ACCESSION   L42022\n",
    "VERSION     L42022.1\n",
    "KEYWORDS    gag gene; p24 protein.\n",
    "SOURCE      Human immunodeficiency virus 1 (HIV-1)\n",
    "  ORGANISM  Human immunodeficiency virus 1\n",
    "            Viruses; Riboviria; Pararnavirae; Artverviricota; Revtraviricetes;\n",
    "            Ortervirales; Retroviridae; Orthoretrovirinae; Lentivirus.\n",
    "REFERENCE   1  (bases 1 to 231)\n",
    "  AUTHORS   Voevodin,A., Crandall,K.A., Seth,P. and al Mufti,S.\n",
    "  TITLE     HIV type 1 subtypes B and C from new regions of India and Indian\n",
    "            and Ethiopian expatriates in Kuwait\n",
    "  JOURNAL   AIDS Res. Hum. Retroviruses 12 (7), 641-643 (1996)\n",
    "   PUBMED   8743090\n",
    "(...)\n",
    "                     EIYKRWIILGLNKIVRMYSPVSILDIKQGPKEP\"\n",
    "ORIGIN      \n",
    "        1 catccagtac atgcagggcc tattgcacca ggccaaatga gagaaccaag gggaagtgac\n",
    "       61 atagcaggaa ctacaagtac ccttcaggaa caagtagcat ggatgacagg taacccacct\n",
    "      121 gttccagtgg gagaaatcta taaaagatgg ataattctgg gattaaataa aatagtaaga\n",
    "      181 atgtatagcc ctgtcagcat tttggacata aaacaagggc caaaggaacc c\n",
    "//\n",
    "```\n",
    "\n",
    "O resultado deveria ser:\n",
    "```\n",
    "catccagtacatgcagggcctattgcaccaggccaaatgagagaaccaaggggaagtgacatagcaggaactacaagtacccttcaggaacaagtagcatggatgacaggtaacccacctgttccagtgggagaaatctataaaagatggataattctgggattaaataaaatagtaagaatgtatagccctgtcagcattttggacataaaacaagggccaaaggaaccc\n",
    "```"
   ]
  },
  {
   "cell_type": "code",
   "execution_count": 11,
   "metadata": {},
   "outputs": [],
   "source": [
    "# resposta"
   ]
  },
  {
   "cell_type": "markdown",
   "metadata": {},
   "source": [
    "### Exercício\n",
    "\n",
    "Dado uma entrada do genbank (como a do exemplo anterior), escreva um pequeno programa que, dado um registo, dá a lista de proteínas (só o identificador) que são codificadas a partir de partes da sequência de DNA.\n",
    "\n",
    "Opcionalmente, em vez de apresentar só o identificador da proteína, apresente o URL necessário para consultar mais informações sobre a mesma. O URL tem a seguinte forma: base + sufixo, em que a base é `https://www.ncbi.nlm.nih.gov/protein/` e o sufixo é o identificador da proteína.\n",
    "\n",
    "Exemplo:\n",
    "\n",
    "dados o seguinte registo em texto (abreviado):\n",
    "```\n",
    "LOCUS       HIVI5C                   231 bp    DNA     linear   VRL 24-MAR-1997\n",
    "DEFINITION  Human immunodeficiency virus type 1 (isolate genotype C, I5) gag\n",
    "            gene, partial cds.\n",
    "ACCESSION   L42022\n",
    "VERSION     L42022.1\n",
    "(...)\n",
    "FEATURES             Location/Qualifiers\n",
    "     source          1..231\n",
    "                     /organism=\"Human immunodeficiency virus 1\"\n",
    "                     /proviral\n",
    "                     /mol_type=\"genomic DNA\"\n",
    "                     /isolate=\"genotype C, I5\"\n",
    "                     /db_xref=\"taxon:11676\"\n",
    "     gene            1..231\n",
    "                     /gene=\"gag\"\n",
    "     CDS             <1..>231\n",
    "                     /gene=\"gag\"\n",
    "                     /codon_start=1\n",
    "                     /protein_id=\"AAB50165.1\"\n",
    "                     /translation=\"HPVHAGPIAPGQMREPRGSDIAGTTSTLQEQVAWMTGNPPVPVG\n",
    "                     EIYKRWIILGLNKIVRMYSPVSILDIKQGPKEP\"\n",
    "ORIGIN      \n",
    "        1 catccagtac atgcagggcc tattgcacca ggccaaatga gagaaccaag gggaagtgac\n",
    "       61 atagcaggaa ctacaagtac ccttcaggaa caagtagcat ggatgacagg taacccacct\n",
    "      121 gttccagtgg gagaaatcta taaaagatgg ataattctgg gattaaataa aatagtaaga\n",
    "      181 atgtatagcc ctgtcagcat tttggacata aaacaagggc caaaggaacc c\n",
    "//\n",
    "```\n",
    "\n",
    "O resultado deveria ser:\n",
    "```\n",
    "AAB50165.1\n",
    "```\n",
    "\n",
    "Em alternativa, o resultado poderia ser:\n",
    "```\n",
    "https://www.ncbi.nlm.nih.gov/protein/AAB50165.1\n",
    "```\n"
   ]
  },
  {
   "cell_type": "code",
   "execution_count": 21,
   "metadata": {},
   "outputs": [
    {
     "name": "stdout",
     "output_type": "stream",
     "text": [
      "AAB50165.1\n",
      "https://www.ncbi.nlm.nih.gov/protein/AAB50165.1\n"
     ]
    }
   ],
   "source": [
    "# resposta\n",
    "# para completar\n",
    "import re\n",
    "fonte = open(\"L42022.1.gb\",'r')\n",
    "locus = fonte.read()\n",
    "fonte.close()\n",
    "\n",
    "# Print all file\n",
    "#print(locus)\n",
    "\n",
    "#Search by \"protein_id\"\n",
    "existe = re.search(r'protein_id+[^\\s]+', locus)\n",
    "\n",
    "# Print all info or \"none\"\n",
    "#print(existe[0])\n",
    "\n",
    "#test if different \"none\"\n",
    "if existe:\n",
    "    m = re.split(r\"[\\\"]\", existe[0])\n",
    "    #print(m)\n",
    "    if m[1]:\n",
    "        id = m[1]\n",
    "        print (id)\n",
    "        print( \"https://www.ncbi.nlm.nih.gov/protein/{}\".format( id ) )\n",
    "    else:\n",
    "        print(\"String is empty\")\n",
    "else:\n",
    "    print( \"Padrão não encontrado\" )"
   ]
  },
  {
   "cell_type": "code",
   "execution_count": null,
   "metadata": {},
   "outputs": [],
   "source": []
  }
 ],
 "metadata": {
  "kernelspec": {
   "display_name": "Python 3 (ipykernel)",
   "language": "python",
   "name": "python3"
  },
  "language_info": {
   "codemirror_mode": {
    "name": "ipython",
    "version": 3
   },
   "file_extension": ".py",
   "mimetype": "text/x-python",
   "name": "python",
   "nbconvert_exporter": "python",
   "pygments_lexer": "ipython3",
   "version": "3.9.13"
  },
  "vscode": {
   "interpreter": {
    "hash": "916dbcbb3f70747c44a77c7bcd40155683ae19c65e1c03b4aa3499c5328201f1"
   }
  }
 },
 "nbformat": 4,
 "nbformat_minor": 2
}
